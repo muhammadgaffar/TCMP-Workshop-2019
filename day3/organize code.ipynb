{
 "cells": [
  {
   "cell_type": "markdown",
   "metadata": {},
   "source": [
    "### Organize Julia Code"
   ]
  },
  {
   "cell_type": "markdown",
   "metadata": {},
   "source": [
    "```\n",
    "include(\"your_julia_file.jl\")\n",
    "```"
   ]
  },
  {
   "cell_type": "markdown",
   "metadata": {},
   "source": [
    "use module for projects \n",
    "\n",
    "```\n",
    "module mymodule\n",
    "\n",
    "    using packages\n",
    "    \n",
    "    export yourfunction(x,v,...)\n",
    "    \n",
    "    function yourfunction(x,v,...)\n",
    "    \n",
    "    end\n",
    "\n",
    "end\n",
    "```"
   ]
  },
  {
   "cell_type": "markdown",
   "metadata": {},
   "source": [
    "## documentation"
   ]
  },
  {
   "cell_type": "code",
   "execution_count": 13,
   "metadata": {},
   "outputs": [
    {
     "data": {
      "text/plain": [
       "polinomial3"
      ]
     },
     "execution_count": 13,
     "metadata": {},
     "output_type": "execute_result"
    }
   ],
   "source": [
    "\"\"\"\n",
    "menghitung polinomial dengan formula \\n\n",
    "p(x) = x^3 - 2x^2 + x - 1\n",
    "\"\"\"\n",
    "function polinomial3(x)\n",
    "    return x^3 - 2x^2 + x - 1\n",
    "end"
   ]
  },
  {
   "cell_type": "code",
   "execution_count": 14,
   "metadata": {},
   "outputs": [
    {
     "name": "stdout",
     "output_type": "stream",
     "text": [
      "search: \u001b[0m\u001b[1mp\u001b[22m\u001b[0m\u001b[1mo\u001b[22m\u001b[0m\u001b[1ml\u001b[22m\u001b[0m\u001b[1mi\u001b[22m\u001b[0m\u001b[1mn\u001b[22m\u001b[0m\u001b[1mo\u001b[22m\u001b[0m\u001b[1mm\u001b[22m\u001b[0m\u001b[1mi\u001b[22m\u001b[0m\u001b[1ma\u001b[22m\u001b[0m\u001b[1ml\u001b[22m\u001b[0m\u001b[1m3\u001b[22m\n",
      "\n"
     ]
    },
    {
     "data": {
      "text/latex": [
       "menghitung polinomial dengan formula \n",
       "\n",
       "p(x) = x\\^{}3 - 2x\\^{}2 + x - 1\n",
       "\n"
      ],
      "text/markdown": [
       "menghitung polinomial dengan formula \n",
       "\n",
       "p(x) = x^3 - 2x^2 + x - 1\n"
      ],
      "text/plain": [
       "  menghitung polinomial dengan formula \n",
       "\n",
       "  p(x) = x^3 - 2x^2 + x - 1"
      ]
     },
     "execution_count": 14,
     "metadata": {},
     "output_type": "execute_result"
    }
   ],
   "source": [
    "?polinomial3"
   ]
  },
  {
   "cell_type": "code",
   "execution_count": null,
   "metadata": {},
   "outputs": [],
   "source": []
  }
 ],
 "metadata": {
  "kernelspec": {
   "display_name": "Julia 1.2.0-rc1",
   "language": "julia",
   "name": "julia-1.2"
  },
  "language_info": {
   "file_extension": ".jl",
   "mimetype": "application/julia",
   "name": "julia",
   "version": "1.2.0"
  }
 },
 "nbformat": 4,
 "nbformat_minor": 2
}
