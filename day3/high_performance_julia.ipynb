{
 "cells": [
  {
   "cell_type": "markdown",
   "metadata": {},
   "source": [
    "### Global and Const Variable"
   ]
  },
  {
   "cell_type": "code",
   "execution_count": 23,
   "metadata": {},
   "outputs": [
    {
     "data": {
      "text/plain": [
       "pow_array3 (generic function with 1 method)"
      ]
     },
     "execution_count": 23,
     "metadata": {},
     "output_type": "execute_result"
    }
   ],
   "source": [
    "p = 2\n",
    "function pow_array(x::Vector{Float64})\n",
    "    s = 0.0\n",
    "    for y in x\n",
    "        s = s + y^p\n",
    "    end\n",
    "    return s\n",
    "end\n",
    "\n",
    "const q = 2\n",
    "function pow_array2(x::Vector{Float64})\n",
    "    s = 0.0\n",
    "    for y in x\n",
    "        s = s + y^q\n",
    "    end\n",
    "    return s\n",
    "end\n",
    "\n",
    "function pow_array3(x::Vector{Float64})\n",
    "    s = 0.0\n",
    "    for y in x\n",
    "        s = s + y^2\n",
    "    end\n",
    "    return s\n",
    "end"
   ]
  },
  {
   "cell_type": "code",
   "execution_count": 18,
   "metadata": {},
   "outputs": [
    {
     "data": {
      "text/plain": [
       "BenchmarkTools.Trial: \n",
       "  memory estimate:  468.75 KiB\n",
       "  allocs estimate:  30000\n",
       "  --------------\n",
       "  minimum time:     401.932 μs (0.00% GC)\n",
       "  median time:      414.468 μs (0.00% GC)\n",
       "  mean time:        463.168 μs (4.21% GC)\n",
       "  maximum time:     39.515 ms (98.79% GC)\n",
       "  --------------\n",
       "  samples:          10000\n",
       "  evals/sample:     1"
      ]
     },
     "execution_count": 18,
     "metadata": {},
     "output_type": "execute_result"
    }
   ],
   "source": [
    "t = rand(10000)\n",
    "\n",
    "@benchmark pow_array(t)"
   ]
  },
  {
   "cell_type": "code",
   "execution_count": 21,
   "metadata": {},
   "outputs": [
    {
     "data": {
      "text/plain": [
       "BenchmarkTools.Trial: \n",
       "  memory estimate:  0 bytes\n",
       "  allocs estimate:  0\n",
       "  --------------\n",
       "  minimum time:     12.956 μs (0.00% GC)\n",
       "  median time:      12.978 μs (0.00% GC)\n",
       "  mean time:        12.994 μs (0.00% GC)\n",
       "  maximum time:     23.874 μs (0.00% GC)\n",
       "  --------------\n",
       "  samples:          10000\n",
       "  evals/sample:     1"
      ]
     },
     "execution_count": 21,
     "metadata": {},
     "output_type": "execute_result"
    }
   ],
   "source": [
    "@benchmark pow_array2(t)"
   ]
  },
  {
   "cell_type": "code",
   "execution_count": 25,
   "metadata": {},
   "outputs": [
    {
     "name": "stdout",
     "output_type": "stream",
     "text": [
      "Variables\n",
      "  #self#\u001b[36m::Core.Compiler.Const(pow_array2, false)\u001b[39m\n",
      "  x\u001b[36m::Array{Float64,1}\u001b[39m\n",
      "  s\u001b[36m::Float64\u001b[39m\n",
      "  @_4\u001b[33m\u001b[1m::Union{Nothing, Tuple{Float64,Int64}}\u001b[22m\u001b[39m\n",
      "  y\u001b[36m::Float64\u001b[39m\n",
      "\n",
      "Body\u001b[36m::Float64\u001b[39m\n",
      "\u001b[90m1 ─\u001b[39m       (s = 0.0)\n",
      "\u001b[90m│  \u001b[39m %2  = x\u001b[36m::Array{Float64,1}\u001b[39m\n",
      "\u001b[90m│  \u001b[39m       (@_4 = Base.iterate(%2))\n",
      "\u001b[90m│  \u001b[39m %4  = (@_4 === nothing)\u001b[36m::Bool\u001b[39m\n",
      "\u001b[90m│  \u001b[39m %5  = Base.not_int(%4)\u001b[36m::Bool\u001b[39m\n",
      "\u001b[90m└──\u001b[39m       goto #4 if not %5\n",
      "\u001b[90m2 ┄\u001b[39m %7  = @_4::Tuple{Float64,Int64}\u001b[36m::Tuple{Float64,Int64}\u001b[39m\n",
      "\u001b[90m│  \u001b[39m       (y = Core.getfield(%7, 1))\n",
      "\u001b[90m│  \u001b[39m %9  = Core.getfield(%7, 2)\u001b[36m::Int64\u001b[39m\n",
      "\u001b[90m│  \u001b[39m %10 = s\u001b[36m::Float64\u001b[39m\n",
      "\u001b[90m│  \u001b[39m %11 = (y ^ Main.q)\u001b[36m::Float64\u001b[39m\n",
      "\u001b[90m│  \u001b[39m       (s = %10 + %11)\n",
      "\u001b[90m│  \u001b[39m       (@_4 = Base.iterate(%2, %9))\n",
      "\u001b[90m│  \u001b[39m %14 = (@_4 === nothing)\u001b[36m::Bool\u001b[39m\n",
      "\u001b[90m│  \u001b[39m %15 = Base.not_int(%14)\u001b[36m::Bool\u001b[39m\n",
      "\u001b[90m└──\u001b[39m       goto #4 if not %15\n",
      "\u001b[90m3 ─\u001b[39m       goto #2\n",
      "\u001b[90m4 ┄\u001b[39m       return s\n"
     ]
    }
   ],
   "source": [
    "@code_warntype pow_array2(t)"
   ]
  },
  {
   "cell_type": "markdown",
   "metadata": {},
   "source": [
    "#### With @Fastmath macro"
   ]
  },
  {
   "cell_type": "code",
   "execution_count": 39,
   "metadata": {},
   "outputs": [
    {
     "data": {
      "text/plain": [
       "sum_diff (generic function with 1 method)"
      ]
     },
     "execution_count": 39,
     "metadata": {},
     "output_type": "execute_result"
    }
   ],
   "source": [
    "function sum_diff(x)\n",
    "n = length(x); d = 1/(n-1)\n",
    "s = zero(eltype(x))\n",
    "s = s + (x[2] - x[1]) / d\n",
    "for i = 2:length(x)-1\n",
    "s = s + (x[i+1] - x[i+1]) / (2*d)\n",
    "end\n",
    "s = s + (x[n] - x[n-1])/d\n",
    "end"
   ]
  },
  {
   "cell_type": "code",
   "execution_count": 40,
   "metadata": {},
   "outputs": [
    {
     "data": {
      "text/plain": [
       "sum_diff_fast (generic function with 1 method)"
      ]
     },
     "execution_count": 40,
     "metadata": {},
     "output_type": "execute_result"
    }
   ],
   "source": [
    "function sum_diff_fast(x)\n",
    "n=length(x); d = 1/(n-1)\n",
    "s = zero(eltype(x))\n",
    "@fastmath s = s + (x[2] - x[1]) / d\n",
    "@fastmath for i = 2:n-1\n",
    "s = s + (x[i+1] - x[i+1]) / (2*d)\n",
    "end\n",
    "@fastmath s = s + (x[n] - x[n-1])/d\n",
    "end"
   ]
  },
  {
   "cell_type": "code",
   "execution_count": 41,
   "metadata": {},
   "outputs": [
    {
     "data": {
      "text/plain": [
       "BenchmarkTools.Trial: \n",
       "  memory estimate:  16 bytes\n",
       "  allocs estimate:  1\n",
       "  --------------\n",
       "  minimum time:     2.601 μs (0.00% GC)\n",
       "  median time:      2.605 μs (0.00% GC)\n",
       "  mean time:        2.623 μs (0.00% GC)\n",
       "  maximum time:     3.680 μs (0.00% GC)\n",
       "  --------------\n",
       "  samples:          10000\n",
       "  evals/sample:     9"
      ]
     },
     "execution_count": 41,
     "metadata": {},
     "output_type": "execute_result"
    }
   ],
   "source": [
    "t=rand(2000)\n",
    "@benchmark sum_diff(t)"
   ]
  },
  {
   "cell_type": "code",
   "execution_count": 42,
   "metadata": {},
   "outputs": [
    {
     "data": {
      "text/plain": [
       "BenchmarkTools.Trial: \n",
       "  memory estimate:  16 bytes\n",
       "  allocs estimate:  1\n",
       "  --------------\n",
       "  minimum time:     683.675 ns (0.00% GC)\n",
       "  median time:      695.682 ns (0.00% GC)\n",
       "  mean time:        711.369 ns (0.00% GC)\n",
       "  maximum time:     1.689 μs (0.00% GC)\n",
       "  --------------\n",
       "  samples:          10000\n",
       "  evals/sample:     151"
      ]
     },
     "execution_count": 42,
     "metadata": {},
     "output_type": "execute_result"
    }
   ],
   "source": [
    "@benchmark sum_diff_fast(t)"
   ]
  },
  {
   "cell_type": "markdown",
   "metadata": {},
   "source": [
    "### Column vs row iteration"
   ]
  },
  {
   "cell_type": "code",
   "execution_count": 52,
   "metadata": {},
   "outputs": [
    {
     "data": {
      "text/plain": [
       "row_iter (generic function with 1 method)"
      ]
     },
     "execution_count": 52,
     "metadata": {},
     "output_type": "execute_result"
    }
   ],
   "source": [
    "function col_iter(x)\n",
    "    s=zero(eltype(x))\n",
    "    for i = 1:size(x, 2)\n",
    "        for j = 1:size(x, 1)\n",
    "            s = s + x[j, i] ^ 2\n",
    "            x[j, i] = s\n",
    "        end\n",
    "    end\n",
    "end\n",
    "\n",
    "function row_iter(x)\n",
    "    s=zero(eltype(x))\n",
    "    for i = 1:size(x, 1)\n",
    "        for j = 1:size(x, 2)\n",
    "            s = s + x[i, j] ^ 2\n",
    "            x[i, j] = s\n",
    "        end\n",
    "    end\n",
    "end"
   ]
  },
  {
   "cell_type": "code",
   "execution_count": 54,
   "metadata": {},
   "outputs": [],
   "source": [
    "a = rand(1000, 1000);"
   ]
  },
  {
   "cell_type": "code",
   "execution_count": 55,
   "metadata": {},
   "outputs": [
    {
     "data": {
      "text/plain": [
       "BenchmarkTools.Trial: \n",
       "  memory estimate:  0 bytes\n",
       "  allocs estimate:  0\n",
       "  --------------\n",
       "  minimum time:     1.312 ms (0.00% GC)\n",
       "  median time:      1.318 ms (0.00% GC)\n",
       "  mean time:        1.323 ms (0.00% GC)\n",
       "  maximum time:     1.822 ms (0.00% GC)\n",
       "  --------------\n",
       "  samples:          3765\n",
       "  evals/sample:     1"
      ]
     },
     "execution_count": 55,
     "metadata": {},
     "output_type": "execute_result"
    }
   ],
   "source": [
    "@benchmark col_iter(a)"
   ]
  },
  {
   "cell_type": "code",
   "execution_count": 56,
   "metadata": {},
   "outputs": [
    {
     "data": {
      "text/plain": [
       "BenchmarkTools.Trial: \n",
       "  memory estimate:  0 bytes\n",
       "  allocs estimate:  0\n",
       "  --------------\n",
       "  minimum time:     2.347 ms (0.00% GC)\n",
       "  median time:      2.388 ms (0.00% GC)\n",
       "  mean time:        2.401 ms (0.00% GC)\n",
       "  maximum time:     3.602 ms (0.00% GC)\n",
       "  --------------\n",
       "  samples:          2077\n",
       "  evals/sample:     1"
      ]
     },
     "execution_count": 56,
     "metadata": {},
     "output_type": "execute_result"
    }
   ],
   "source": [
    "@benchmark row_iter(a)"
   ]
  },
  {
   "cell_type": "markdown",
   "metadata": {},
   "source": [
    "#### @bounds checking"
   ]
  },
  {
   "cell_type": "code",
   "execution_count": 57,
   "metadata": {},
   "outputs": [
    {
     "data": {
      "text/plain": [
       "prefix_inbounds (generic function with 1 method)"
      ]
     },
     "execution_count": 57,
     "metadata": {},
     "output_type": "execute_result"
    }
   ],
   "source": [
    "function prefix_bounds(a, b)\n",
    "for i = 2:size(a, 1)\n",
    "a[i] = b[i-1] + b[i]\n",
    "end\n",
    "end\n",
    "function prefix_inbounds(a, b)\n",
    "@inbounds for i = 2:size(a, 1)\n",
    "a[i] = b[i-1] + b[i]\n",
    "end\n",
    "end"
   ]
  },
  {
   "cell_type": "code",
   "execution_count": 59,
   "metadata": {},
   "outputs": [],
   "source": [
    "a = rand(100)\n",
    "b = rand(100);"
   ]
  },
  {
   "cell_type": "code",
   "execution_count": 61,
   "metadata": {},
   "outputs": [
    {
     "data": {
      "text/plain": [
       "BenchmarkTools.Trial: \n",
       "  memory estimate:  0 bytes\n",
       "  allocs estimate:  0\n",
       "  --------------\n",
       "  minimum time:     101.335 ns (0.00% GC)\n",
       "  median time:      101.816 ns (0.00% GC)\n",
       "  mean time:        107.424 ns (0.00% GC)\n",
       "  maximum time:     216.734 ns (0.00% GC)\n",
       "  --------------\n",
       "  samples:          10000\n",
       "  evals/sample:     940"
      ]
     },
     "execution_count": 61,
     "metadata": {},
     "output_type": "execute_result"
    }
   ],
   "source": [
    "@benchmark prefix_bounds(a,b)"
   ]
  },
  {
   "cell_type": "code",
   "execution_count": 63,
   "metadata": {},
   "outputs": [
    {
     "data": {
      "text/plain": [
       "BenchmarkTools.Trial: \n",
       "  memory estimate:  0 bytes\n",
       "  allocs estimate:  0\n",
       "  --------------\n",
       "  minimum time:     29.146 ns (0.00% GC)\n",
       "  median time:      29.409 ns (0.00% GC)\n",
       "  mean time:        29.654 ns (0.00% GC)\n",
       "  maximum time:     74.519 ns (0.00% GC)\n",
       "  --------------\n",
       "  samples:          10000\n",
       "  evals/sample:     995"
      ]
     },
     "execution_count": 63,
     "metadata": {},
     "output_type": "execute_result"
    }
   ],
   "source": [
    "@benchmark prefix_inbounds(a,b)"
   ]
  },
  {
   "cell_type": "markdown",
   "metadata": {},
   "source": [
    "### Memory Allocation"
   ]
  },
  {
   "cell_type": "code",
   "execution_count": 64,
   "metadata": {},
   "outputs": [
    {
     "data": {
      "text/plain": [
       "xpow_loop (generic function with 1 method)"
      ]
     },
     "execution_count": 64,
     "metadata": {},
     "output_type": "execute_result"
    }
   ],
   "source": [
    "function xpow(x)\n",
    "return [x x^2 x^3 x^4]\n",
    "end\n",
    "function xpow_loop(n)\n",
    "s = 0\n",
    "for i = 1:n\n",
    "s = s + xpow(i)[2]\n",
    "end\n",
    "return s\n",
    "end"
   ]
  },
  {
   "cell_type": "code",
   "execution_count": 65,
   "metadata": {},
   "outputs": [
    {
     "data": {
      "text/plain": [
       "BenchmarkTools.Trial: \n",
       "  memory estimate:  106.81 MiB\n",
       "  allocs estimate:  1000000\n",
       "  --------------\n",
       "  minimum time:     35.859 ms (10.72% GC)\n",
       "  median time:      37.446 ms (14.17% GC)\n",
       "  mean time:        39.024 ms (15.02% GC)\n",
       "  maximum time:     106.332 ms (56.11% GC)\n",
       "  --------------\n",
       "  samples:          129\n",
       "  evals/sample:     1"
      ]
     },
     "execution_count": 65,
     "metadata": {},
     "output_type": "execute_result"
    }
   ],
   "source": [
    "@benchmark xpow_loop(1000000)"
   ]
  },
  {
   "cell_type": "code",
   "execution_count": 66,
   "metadata": {},
   "outputs": [
    {
     "data": {
      "text/plain": [
       "xpow_loop_noalloc (generic function with 1 method)"
      ]
     },
     "execution_count": 66,
     "metadata": {},
     "output_type": "execute_result"
    }
   ],
   "source": [
    "function xpow!(result::Array{Int, 1}, x)\n",
    "@assert length(result) == 4\n",
    "result[1] = x\n",
    "result[2] = x^2\n",
    "result[3] = x^3\n",
    "result[4] = x^4\n",
    "end\n",
    "function xpow_loop_noalloc(n)\n",
    "r = [0, 0, 0, 0]\n",
    "s = 0\n",
    "for i = 1:n\n",
    "xpow!(r, i)\n",
    "s = s + r[2]\n",
    "end\n",
    "s\n",
    "end"
   ]
  },
  {
   "cell_type": "code",
   "execution_count": 67,
   "metadata": {},
   "outputs": [
    {
     "data": {
      "text/plain": [
       "BenchmarkTools.Trial: \n",
       "  memory estimate:  112 bytes\n",
       "  allocs estimate:  1\n",
       "  --------------\n",
       "  minimum time:     6.642 ms (0.00% GC)\n",
       "  median time:      6.729 ms (0.00% GC)\n",
       "  mean time:        6.788 ms (0.00% GC)\n",
       "  maximum time:     8.696 ms (0.00% GC)\n",
       "  --------------\n",
       "  samples:          737\n",
       "  evals/sample:     1"
      ]
     },
     "execution_count": 67,
     "metadata": {},
     "output_type": "execute_result"
    }
   ],
   "source": [
    "@benchmark xpow_loop_noalloc(1000000)"
   ]
  },
  {
   "cell_type": "markdown",
   "metadata": {},
   "source": [
    "### Memory Allocation 2"
   ]
  },
  {
   "cell_type": "code",
   "execution_count": 68,
   "metadata": {},
   "outputs": [
    {
     "data": {
      "text/plain": [
       "sum_cols_matrix (generic function with 1 method)"
      ]
     },
     "execution_count": 68,
     "metadata": {},
     "output_type": "execute_result"
    }
   ],
   "source": [
    "function sum_vector(x::Array{Float64, 1})\n",
    "s = 0.0\n",
    "for i = 1:length(x)\n",
    "s = s + x[i]\n",
    "end\n",
    "return s\n",
    "end\n",
    "function sum_cols_matrix(x::Array{Float64, 2})\n",
    "num_cols = size(x, 2)\n",
    "s = zeros(num_cols)\n",
    "for i = 1:num_cols\n",
    "s[i] = sum_vector(x[:, i])\n",
    "end\n",
    "return s\n",
    "end"
   ]
  },
  {
   "cell_type": "code",
   "execution_count": 74,
   "metadata": {},
   "outputs": [
    {
     "data": {
      "text/plain": [
       "BenchmarkTools.Trial: \n",
       "  memory estimate:  1.49 GiB\n",
       "  allocs estimate:  20004\n",
       "  --------------\n",
       "  minimum time:     712.681 ms (21.20% GC)\n",
       "  median time:      714.630 ms (21.32% GC)\n",
       "  mean time:        729.088 ms (21.90% GC)\n",
       "  maximum time:     753.459 ms (22.58% GC)\n",
       "  --------------\n",
       "  samples:          7\n",
       "  evals/sample:     1"
      ]
     },
     "execution_count": 74,
     "metadata": {},
     "output_type": "execute_result"
    }
   ],
   "source": [
    "@benchmark sum_cols_matrix(rand(10000, 10000))"
   ]
  },
  {
   "cell_type": "code",
   "execution_count": 72,
   "metadata": {},
   "outputs": [
    {
     "data": {
      "text/plain": [
       "sum_cols_matrix_views (generic function with 1 method)"
      ]
     },
     "execution_count": 72,
     "metadata": {},
     "output_type": "execute_result"
    }
   ],
   "source": [
    "function sum_vector(x::AbstractArray)\n",
    "s = 0.0\n",
    "for i = 1:length(x)\n",
    "s = s + x[i]\n",
    "end\n",
    "    return s\n",
    "end\n",
    "function sum_cols_matrix_views(x::Array{Float64, 2})\n",
    "num_cols = size(x, 2); num_rows = size(x, 1)\n",
    "s = zeros(num_cols)\n",
    "for i = 1:num_cols\n",
    "s[i] = sum_vector(view(x, 1:num_rows, i))\n",
    "end\n",
    "return s\n",
    "end"
   ]
  },
  {
   "cell_type": "code",
   "execution_count": 75,
   "metadata": {},
   "outputs": [
    {
     "data": {
      "text/plain": [
       "BenchmarkTools.Trial: \n",
       "  memory estimate:  763.02 MiB\n",
       "  allocs estimate:  4\n",
       "  --------------\n",
       "  minimum time:     471.349 ms (1.89% GC)\n",
       "  median time:      490.381 ms (5.84% GC)\n",
       "  mean time:        497.052 ms (7.08% GC)\n",
       "  maximum time:     540.961 ms (14.58% GC)\n",
       "  --------------\n",
       "  samples:          11\n",
       "  evals/sample:     1"
      ]
     },
     "execution_count": 75,
     "metadata": {},
     "output_type": "execute_result"
    }
   ],
   "source": [
    "@benchmark sum_cols_matrix_views(rand(10000, 10000))"
   ]
  }
 ],
 "metadata": {
  "kernelspec": {
   "display_name": "Julia 1.2.0-rc1",
   "language": "julia",
   "name": "julia-1.2"
  },
  "language_info": {
   "file_extension": ".jl",
   "mimetype": "application/julia",
   "name": "julia",
   "version": "1.2.0"
  }
 },
 "nbformat": 4,
 "nbformat_minor": 2
}
