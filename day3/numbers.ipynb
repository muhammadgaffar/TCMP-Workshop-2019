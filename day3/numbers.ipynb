{
 "cells": [
  {
   "cell_type": "markdown",
   "metadata": {},
   "source": [
    "# What's in Julia?\n",
    "\n",
    "by Muhammad Gaffar\n",
    "\n",
    "## NUMBERS"
   ]
  },
  {
   "cell_type": "markdown",
   "metadata": {},
   "source": [
    "### Integer"
   ]
  },
  {
   "cell_type": "code",
   "execution_count": 24,
   "metadata": {},
   "outputs": [
    {
     "name": "stdout",
     "output_type": "stream",
     "text": [
      "typeof(x) = Int64\n",
      "typeof(x_32) = Int32\n",
      "typeof(x_128) = BigInt\n"
     ]
    }
   ],
   "source": [
    "x = 19\n",
    "@show typeof(x)\n",
    "#low precision integer\n",
    "x_32 = Int32(19)\n",
    "@show typeof(x_32)\n",
    "#high precision integer\n",
    "x_128 = BigInt(19)\n",
    "@show typeof(x_128);"
   ]
  },
  {
   "cell_type": "markdown",
   "metadata": {},
   "source": [
    "### Rationals"
   ]
  },
  {
   "cell_type": "code",
   "execution_count": 38,
   "metadata": {},
   "outputs": [
    {
     "name": "stdout",
     "output_type": "stream",
     "text": [
      "x = 17//12\n",
      "typeof(x) = Rational{Int64}\n"
     ]
    }
   ],
   "source": [
    "#use // operator\n",
    "\n",
    "x = 3//4 + 12//18\n",
    "@show x\n",
    "@show typeof(x);"
   ]
  },
  {
   "cell_type": "markdown",
   "metadata": {},
   "source": [
    "### Reals"
   ]
  },
  {
   "cell_type": "code",
   "execution_count": 36,
   "metadata": {},
   "outputs": [
    {
     "name": "stdout",
     "output_type": "stream",
     "text": [
      "x = 6.333333333333333\n",
      "typeof(x) = Float64\n",
      "x_32 = 6.3333335f0\n",
      "typeof(x_32w) = Float32\n",
      "x_128 = 6.33333333333333303727386009995825588703155517578125\n",
      "typeof(x_128) = BigFloat\n"
     ]
    }
   ],
   "source": [
    "x = 19/3\n",
    "@show x\n",
    "@show typeof(x)\n",
    "#low precision integer\n",
    "x_32 = Float32(19/3)\n",
    "x_32w = 32.94f0\n",
    "@show x_32\n",
    "@show typeof(x_32w)\n",
    "#high precision integer\n",
    "x_128 = BigFloat(19/3)\n",
    "@show x_128;\n",
    "@show typeof(x_128);"
   ]
  },
  {
   "cell_type": "markdown",
   "metadata": {},
   "source": [
    "### Complex"
   ]
  },
  {
   "cell_type": "code",
   "execution_count": 44,
   "metadata": {},
   "outputs": [
    {
     "name": "stdout",
     "output_type": "stream",
     "text": [
      "c = 3 + 4im\n",
      "typeof(c) = Complex{Int64}\n",
      "abs(c) = 5.0\n"
     ]
    }
   ],
   "source": [
    "c = 3+4im\n",
    "@show c\n",
    "@show typeof(c)\n",
    "@show abs(c);"
   ]
  },
  {
   "cell_type": "code",
   "execution_count": null,
   "metadata": {},
   "outputs": [],
   "source": []
  }
 ],
 "metadata": {
  "kernelspec": {
   "display_name": "Julia 1.2.0-rc1",
   "language": "julia",
   "name": "julia-1.2"
  },
  "language_info": {
   "file_extension": ".jl",
   "mimetype": "application/julia",
   "name": "julia",
   "version": "1.2.0"
  }
 },
 "nbformat": 4,
 "nbformat_minor": 2
}
